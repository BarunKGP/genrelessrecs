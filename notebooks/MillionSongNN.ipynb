{
  "nbformat": 4,
  "nbformat_minor": 0,
  "metadata": {
    "colab": {
      "name": "MillionSongNN.ipynb",
      "provenance": [],
      "collapsed_sections": []
    },
    "kernelspec": {
      "name": "python3",
      "display_name": "Python 3"
    },
    "language_info": {
      "name": "python"
    }
  },
  "cells": [
    {
      "cell_type": "code",
      "execution_count": null,
      "metadata": {
        "colab": {
          "base_uri": "https://localhost:8080/"
        },
        "id": "UcjyvP3XO9f8",
        "outputId": "81f37b4c-87cc-43ad-c954-6d69c083f979"
      },
      "outputs": [
        {
          "output_type": "stream",
          "name": "stdout",
          "text": [
            "Looking in links: https://download.pytorch.org/whl/torch_stable.html\n",
            "Requirement already satisfied: torch==1.2.0+cu92 in /usr/local/lib/python3.7/dist-packages (1.2.0+cu92)\n",
            "Requirement already satisfied: torchvision==0.4.0+cu92 in /usr/local/lib/python3.7/dist-packages (0.4.0+cu92)\n",
            "Requirement already satisfied: numpy in /usr/local/lib/python3.7/dist-packages (from torch==1.2.0+cu92) (1.21.5)\n",
            "Requirement already satisfied: six in /usr/local/lib/python3.7/dist-packages (from torchvision==0.4.0+cu92) (1.15.0)\n",
            "Requirement already satisfied: pillow>=4.1.1 in /usr/local/lib/python3.7/dist-packages (from torchvision==0.4.0+cu92) (7.1.2)\n"
          ]
        }
      ],
      "source": [
        "!pip3 install torch==1.2.0+cu92 torchvision==0.4.0+cu92 -f https://download.pytorch.org/whl/torch_stable.html"
      ]
    },
    {
      "cell_type": "code",
      "source": [
        "import numpy as np\n",
        "import torch\n",
        "import torch.nn as nn\n",
        "import torch.nn.functional as F\n",
        "import pandas as pd\n",
        "import seaborn as sns\n",
        "from sklearn.model_selection import train_test_split\n",
        "from tqdm import tqdm\n",
        "from torchsummary import summary\n",
        "from sklearn import preprocessing\n",
        "import torch.optim as optim\n",
        "import matplotlib.pyplot as plt\n"
      ],
      "metadata": {
        "id": "DryCtwX2QAzc"
      },
      "execution_count": null,
      "outputs": []
    },
    {
      "cell_type": "code",
      "source": [
        "from google.colab import drive\n",
        "drive.mount('/content/drive')"
      ],
      "metadata": {
        "id": "4tM5nRJPPCkM",
        "colab": {
          "base_uri": "https://localhost:8080/"
        },
        "outputId": "fe918b92-050e-4906-ae13-e0cc927f6ac8"
      },
      "execution_count": null,
      "outputs": [
        {
          "output_type": "stream",
          "name": "stdout",
          "text": [
            "Drive already mounted at /content/drive; to attempt to forcibly remount, call drive.mount(\"/content/drive\", force_remount=True).\n"
          ]
        }
      ]
    },
    {
      "cell_type": "code",
      "source": [
        "path = \"/content/drive/My Drive/song_features.csv\"\n",
        "df = pd.read_csv(path)\n"
      ],
      "metadata": {
        "id": "qloFLl9YeuR9"
      },
      "execution_count": null,
      "outputs": []
    },
    {
      "cell_type": "markdown",
      "source": [
        "Splitting our Data"
      ],
      "metadata": {
        "id": "zOC9t8A58kQG"
      }
    },
    {
      "cell_type": "code",
      "source": [
        "#Select relevant features\n",
        "features_of_interest = [\"danceability\", \"energy\", \"key\", \"loudness\", \"mode\", \"speechiness\", \"acousticness\",\\\n",
        "                        \"instrumentalness\", \"liveness\", \"valence\", \"tempo\", \"duration_ms\", \"time_signature\"]\n",
        "\n",
        "#Shuffle Dataset\n",
        "df = df.sample(frac=1, random_state = 19).reset_index(drop=True)\n",
        "\n",
        "#80/20 Split between Train and Test\n",
        "train, test = train_test_split(df, test_size=0.2)\n",
        "\n",
        "# train.to_csv(\"/content/drive/My Drive/song_features_train.csv\")\n",
        "# test.to_csv(\"/content/drive/My Drive/song_features_test.csv\")\n",
        "\n",
        "\n",
        "#Subdivide training test into its features and labels\n",
        "trainx = train[features_of_interest]\n",
        "trainy = train[[\"genre\"]]\n",
        "\n",
        "testx = test[features_of_interest]\n",
        "testy = test[[\"genre\"]]\n",
        "\n",
        "print(train.dtypes)"
      ],
      "metadata": {
        "id": "n6Mqak9s8vqy",
        "colab": {
          "base_uri": "https://localhost:8080/"
        },
        "outputId": "7a247df0-66de-46e4-b53f-82c0668e624f"
      },
      "execution_count": null,
      "outputs": [
        {
          "output_type": "stream",
          "name": "stdout",
          "text": [
            "msd_track_id         object\n",
            "msd_song_id          object\n",
            "spotify_id           object\n",
            "danceability        float64\n",
            "energy              float64\n",
            "key                 float64\n",
            "loudness            float64\n",
            "mode                float64\n",
            "speechiness         float64\n",
            "acousticness        float64\n",
            "instrumentalness    float64\n",
            "liveness            float64\n",
            "valence             float64\n",
            "tempo               float64\n",
            "duration_ms         float64\n",
            "time_signature      float64\n",
            "genre                object\n",
            "dtype: object\n"
          ]
        }
      ]
    },
    {
      "cell_type": "markdown",
      "source": [
        "Data Exploration"
      ],
      "metadata": {
        "id": "q0nIk6TV2wA6"
      }
    },
    {
      "cell_type": "code",
      "source": [
        "print(df.head())"
      ],
      "metadata": {
        "id": "BjFmFONPx8ec",
        "colab": {
          "base_uri": "https://localhost:8080/"
        },
        "outputId": "34342481-48a3-4d1c-eb61-8742e2436b66"
      },
      "execution_count": null,
      "outputs": [
        {
          "output_type": "stream",
          "name": "stdout",
          "text": [
            "         msd_track_id         msd_song_id              spotify_id  \\\n",
            "0  TRSRCBF128F14AAB5B  SOXRGFU12A6D4FB335  5c0SsjmexSa9QJ5MWoepQK   \n",
            "1  TRDNJQV128F931B1A9  SOCZTRA12AB0188521  6wQUObaXYOhR3P6Jsfq50t   \n",
            "2  TRNXCSI128F149FA16  SOGZSHD12A6D4FAD5C  7791BKdHoXssT9SbybJI0P   \n",
            "3  TRFCTYD12903CC65A1  SOTCQXT12AB0185210  3zBltgnm4nLnuUoUP5xgof   \n",
            "4  TRKIPLD128F42BAA46  SOBRWYE12A8C1412A5  18Ta9ptX7HLxb2wEoGHV83   \n",
            "\n",
            "   danceability  energy   key  loudness  mode  speechiness  acousticness  \\\n",
            "0         0.747   0.866  10.0    -7.353   0.0       0.0480        0.2190   \n",
            "1         0.451   0.130   2.0   -19.210   1.0       0.0289        0.4740   \n",
            "2         0.491   0.143   8.0   -12.343   1.0       0.0326        0.7850   \n",
            "3         0.228   0.707  11.0    -8.240   0.0       0.0391        0.0875   \n",
            "4         0.588   0.505   5.0    -8.776   1.0       0.0283        0.1710   \n",
            "\n",
            "   instrumentalness  liveness  valence    tempo  duration_ms  time_signature  \\\n",
            "0          0.470000    0.0732    0.889   88.026     230213.0             4.0   \n",
            "1          0.915000    0.1820    0.448  102.748      88413.0             4.0   \n",
            "2          0.012300    0.1850    0.123  101.230     482173.0             4.0   \n",
            "3          0.796000    0.1110    0.416  105.459     232067.0             4.0   \n",
            "4          0.000001    0.1100    0.142   98.471     267280.0             4.0   \n",
            "\n",
            "        genre  \n",
            "0  Electronic  \n",
            "1        Jazz  \n",
            "2        Jazz  \n",
            "3        Rock  \n",
            "4        Rock  \n"
          ]
        }
      ]
    },
    {
      "cell_type": "code",
      "source": [
        "print(\"The shape of our dataset: \" + str(train.shape) + \"\\n\\n\")\n",
        "value_bins = train['genre'].value_counts()\n",
        "sns.set(rc={'figure.figsize':(12,10)})\n",
        "sns.histplot(train[\"genre\"])"
      ],
      "metadata": {
        "colab": {
          "base_uri": "https://localhost:8080/",
          "height": 682
        },
        "id": "CdZuSAjw2slO",
        "outputId": "ff0148af-a520-48da-caed-ea32275dd66b"
      },
      "execution_count": null,
      "outputs": [
        {
          "output_type": "stream",
          "name": "stdout",
          "text": [
            "The shape of our dataset: (168379, 17)\n",
            "\n",
            "\n"
          ]
        },
        {
          "output_type": "execute_result",
          "data": {
            "text/plain": [
              "<matplotlib.axes._subplots.AxesSubplot at 0x7f347aa09590>"
            ]
          },
          "metadata": {},
          "execution_count": 7
        },
        {
          "output_type": "display_data",
          "data": {
            "text/plain": [
              "<Figure size 864x720 with 1 Axes>"
            ],
            "image/png": "[encoded data removed]"
          },
          "metadata": {}
        }
      ]
    },
    {
      "cell_type": "code",
      "source": [
        "train.hist(bins=15, figsize=(20, 20), layout=(4, 4));"
      ],
      "metadata": {
        "colab": {
          "base_uri": "https://localhost:8080/",
          "height": 1000
        },
        "id": "mEYi3VslDDYB",
        "outputId": "09dbe946-2b0c-473a-92ec-23d51a9065ff"
      },
      "execution_count": null,
      "outputs": [
        {
          "output_type": "display_data",
          "data": {
            "text/plain": [
              "<Figure size 1440x1440 with 16 Axes>"
            ],
            "image/png": "[encoded data removed]"
          },
          "metadata": {}
        }
      ]
    },
    {
      "cell_type": "code",
      "source": [
        "sns.histplot(data=train, x=\"danceability\", hue=\"genre\")"
      ],
      "metadata": {
        "colab": {
          "base_uri": "https://localhost:8080/",
          "height": 628
        },
        "id": "fQLB1rBq3nLS",
        "outputId": "7838f5d9-b375-43b5-9178-f3e7acd3316a"
      },
      "execution_count": null,
      "outputs": [
        {
          "output_type": "execute_result",
          "data": {
            "text/plain": [
              "<matplotlib.axes._subplots.AxesSubplot at 0x7f3479bfd750>"
            ]
          },
          "metadata": {},
          "execution_count": 9
        },
        {
          "output_type": "display_data",
          "data": {
            "text/plain": [
              "<Figure size 864x720 with 1 Axes>"
            ],
            "image/png": "[encoded data removed]"
          },
          "metadata": {}
        }
      ]
    },
    {
      "cell_type": "code",
      "source": [
        "sns.histplot(data=train, x=\"speechiness\", hue=\"genre\")"
      ],
      "metadata": {
        "colab": {
          "base_uri": "https://localhost:8080/",
          "height": 628
        },
        "id": "5NjKHbdw6oSr",
        "outputId": "18dd13ff-a08a-417d-c418-effda1f96c5e"
      },
      "execution_count": null,
      "outputs": [
        {
          "output_type": "execute_result",
          "data": {
            "text/plain": [
              "<matplotlib.axes._subplots.AxesSubplot at 0x7f3477b3c750>"
            ]
          },
          "metadata": {},
          "execution_count": 10
        },
        {
          "output_type": "display_data",
          "data": {
            "text/plain": [
              "<Figure size 864x720 with 1 Axes>"
            ],
            "image/png": "[encoded data removed]"
          },
          "metadata": {}
        }
      ]
    },
    {
      "cell_type": "code",
      "source": [
        "ax = sns.heatmap(trainx.corr(), linewidths = .5);\n"
      ],
      "metadata": {
        "colab": {
          "base_uri": "https://localhost:8080/",
          "height": 684
        },
        "id": "9ci1MTn_7Wl0",
        "outputId": "11a65d6d-0955-47af-8239-738f4bbc85e1"
      },
      "execution_count": null,
      "outputs": [
        {
          "output_type": "display_data",
          "data": {
            "text/plain": [
              "<Figure size 864x720 with 2 Axes>"
            ],
            "image/png": "[encoded data removed]"
          },
          "metadata": {}
        }
      ]
    },
    {
      "cell_type": "code",
      "source": [
        "#Dataframe to Numpy Arrays\n",
        "\n",
        "if isinstance(trainx, pd.DataFrame):\n",
        "  print(\"Converted trainx from Dataframe to Numpy\")\n",
        "  trainx = trainx.to_numpy(dtype = float)\n",
        "if isinstance(trainy, pd.DataFrame):\n",
        "  trainy = trainy.to_numpy().reshape(-1, 1)\n",
        "  print(\"Converted trainy from Dataframe to Numpy\")\n",
        "if isinstance(testx, pd.DataFrame):\n",
        "  testx = testx.to_numpy(dtype = float)\n",
        "  print(\"Converted testx from Dataframe to Numpy\")\n",
        "if isinstance(testy, pd.DataFrame):\n",
        "  testy = testy.to_numpy().reshape(-1, 1)\n",
        "  print(\"Converted testy from Dataframe to Numpy\")\n",
        "\n",
        "#Transformations on X\n",
        "pt = preprocessing.PowerTransformer()\n",
        "pt.fit(trainx)\n",
        "trainx = torch.from_numpy(pt.transform(trainx))\n",
        "\n",
        "pt_test = preprocessing.PowerTransformer()\n",
        "pt_test.fit(testx)\n",
        "testx = torch.from_numpy(pt_test.transform(testx))\n",
        "\n",
        "\n",
        "#Transformations on Y\n",
        "\n",
        "# enc = OneHotEncoder(handle_unknown='ignore')\n",
        "# enc.fit(trainy)\n",
        "# trainy_onehot = torch.from_numpy(enc.transform(trainy).toarray()).type(torch.LongTensor)\n",
        "\n",
        "yle = preprocessing.LabelEncoder()\n",
        "yle.fit(trainy.reshape((-1,)))\n",
        "trainy_le = torch.from_numpy(yle.transform(trainy.reshape((-1,))))\n",
        "\n",
        "yle_test = preprocessing.LabelEncoder()\n",
        "yle_test.fit(testy.reshape((-1,)))\n",
        "testy_le = torch.from_numpy(yle_test.transform(testy.reshape((-1,))))\n"
      ],
      "metadata": {
        "id": "HXlhFtsuFnAr",
        "colab": {
          "base_uri": "https://localhost:8080/"
        },
        "outputId": "1b883393-af6d-4c3d-c5a7-1f6f1525e946"
      },
      "execution_count": null,
      "outputs": [
        {
          "output_type": "stream",
          "name": "stdout",
          "text": [
            "Converted trainx from Dataframe to Numpy\n",
            "Converted trainy from Dataframe to Numpy\n",
            "Converted testx from Dataframe to Numpy\n",
            "Converted testy from Dataframe to Numpy\n"
          ]
        }
      ]
    },
    {
      "cell_type": "code",
      "source": [
        "class Net(nn.Module):\n",
        "  def __init__(self, numFeatures, numGenres):\n",
        "    super(Net, self).__init__()\n",
        "    self.fc1 = nn.Linear(numFeatures,14) #Intial number of feautres\n",
        "    self.fc2 = nn.Linear(14,numGenres)\n",
        "  def forward(self,x):\n",
        "    x = F.relu(self.fc1(x))\n",
        "    x = F.relu(self.fc2(x))\n",
        "    return x"
      ],
      "metadata": {
        "id": "oNPG2TvH6yVq"
      },
      "execution_count": null,
      "outputs": []
    },
    {
      "cell_type": "code",
      "source": [
        "class MillionSongTrainDataset(torch.utils.data.Dataset):\n",
        "  def __init__(self,dataset,labels):\n",
        "    self.labels = trainy\n",
        "    self.dataset = dataset\n",
        "    self.labels = labels\n",
        "  def __len__(self):\n",
        "    return len(self.labels)\n",
        "  def __getitem__(self, idx):\n",
        "    return self.dataset[idx],self.labels[idx]\n"
      ],
      "metadata": {
        "id": "AKh2DGbFkhjF"
      },
      "execution_count": null,
      "outputs": []
    },
    {
      "cell_type": "code",
      "source": [
        "batch_size = 32\n",
        "num_folds  = 4 \n",
        "epochs = 30\n",
        "numGenres = 15\n",
        "N, D = trainx.shape\n",
        "training_str_templ = \"Training for Fold Number {numFold}; Epoch Number {numEpoch}\"\n",
        "validation_str_templ = \"Validation for Fold Number {numFold}\"\n"
      ],
      "metadata": {
        "id": "iR1PnBLVlZKI"
      },
      "execution_count": null,
      "outputs": []
    },
    {
      "cell_type": "code",
      "source": [
        "train_dict = {}\n",
        "val_dict = {}\n",
        "for k in range(num_folds):\n",
        "  net = Net(D,numGenres)\n",
        "  criterion = nn.CrossEntropyLoss()\n",
        "  optimizer = optim.SGD(net.parameters(), lr=0.00005, momentum=0.9)\n",
        "  print()\n",
        "  print()\n",
        "  xtrain = np.concatenate((trainx[:k*(N//num_folds)],trainx[min(N,(k+1)*(N//num_folds)):]), axis = 0)\n",
        "  ytrain = np.concatenate((trainy_le[:k*(N//num_folds)],trainy_le[min(N,(k+1)*(N//num_folds)):]), axis = 0)\n",
        "\n",
        "  trainloader = torch.utils.data.DataLoader(MillionSongTrainDataset(xtrain,ytrain), batch_size=batch_size, shuffle=True)\n",
        "\n",
        "  xval = trainx[k*(N//num_folds):min(N,(k+1)*(N//num_folds))]\n",
        "  yval = trainy_le[k*(N//num_folds):min(N,(k+1)*(N//num_folds))]\n",
        "\n",
        "  valloader = torch.utils.data.DataLoader(MillionSongTrainDataset(xval,yval), batch_size=64, shuffle=True)\n",
        "\n",
        "  train_losses = []\n",
        "  valid_losses = []\n",
        "  for epoch in range(epochs):\n",
        "\n",
        "    net.train()\n",
        "    running_loss = 0.0\n",
        "    valid_running_loss = 0.0\n",
        "    for i,data in tqdm(enumerate(trainloader,0), desc = training_str_templ.format(numFold=k,numEpoch=epoch)):\n",
        "      local_batch, local_labels = data\n",
        "      optimizer.zero_grad()\n",
        "      outputs = net(local_batch.float())\n",
        "      loss = criterion(outputs, local_labels)\n",
        "      loss.backward()\n",
        "      optimizer.step()\n",
        "      running_loss += loss.item()\n",
        "\n",
        "    net.eval()\n",
        "\n",
        "    for val_data, val_labels in valloader:\n",
        "      output = net(val_data.float())\n",
        "      loss = criterion(output,val_labels)\n",
        "      valid_running_loss += loss.item()\n",
        "\n",
        "    print(f'[Epoch: {epoch}, Num Mini-batches: {len(trainloader):5d}] Training loss: {running_loss / len(trainloader):.3f}')\n",
        "    train_losses.append(running_loss / len(trainloader))\n",
        "    train_dict[k] = train_losses\n",
        "\n",
        "    print(f'[Epoch: {epoch}, Num Mini-batches: {len(valloader):5d}] Validation loss: {valid_running_loss / len(valloader):.3f}')\n",
        "    valid_losses.append(valid_running_loss / len(valloader))\n",
        "    val_dict[k] = valid_losses"
      ],
      "metadata": {
        "id": "m_91rWuV7LTB",
        "colab": {
          "base_uri": "https://localhost:8080/"
        },
        "outputId": "49ec52cb-f7cb-4f75-d28c-bfadc0ae1017"
      },
      "execution_count": null,
      "outputs": [
        {
          "output_type": "stream",
          "name": "stdout",
          "text": [
            "\n",
            "\n"
          ]
        },
        {
          "output_type": "stream",
          "name": "stderr",
          "text": [
            "Training for Fold Number 0; Epoch Number 0: 3947it [00:03, 1176.66it/s]\n"
          ]
        },
        {
          "output_type": "stream",
          "name": "stdout",
          "text": [
            "[Epoch: 0, Num Mini-batches:  3947] Training loss: 2.609\n",
            "[Epoch: 0, Num Mini-batches:   658] Validation loss: 2.428\n"
          ]
        },
        {
          "output_type": "stream",
          "name": "stderr",
          "text": [
            "Training for Fold Number 0; Epoch Number 1: 3947it [00:03, 1175.10it/s]\n"
          ]
        },
        {
          "output_type": "stream",
          "name": "stdout",
          "text": [
            "[Epoch: 1, Num Mini-batches:  3947] Training loss: 2.288\n",
            "[Epoch: 1, Num Mini-batches:   658] Validation loss: 2.190\n"
          ]
        },
        {
          "output_type": "stream",
          "name": "stderr",
          "text": [
            "Training for Fold Number 0; Epoch Number 2: 3947it [00:03, 1177.54it/s]\n"
          ]
        },
        {
          "output_type": "stream",
          "name": "stdout",
          "text": [
            "[Epoch: 2, Num Mini-batches:  3947] Training loss: 2.142\n",
            "[Epoch: 2, Num Mini-batches:   658] Validation loss: 2.117\n"
          ]
        },
        {
          "output_type": "stream",
          "name": "stderr",
          "text": [
            "Training for Fold Number 0; Epoch Number 3: 3947it [00:03, 1176.83it/s]\n"
          ]
        },
        {
          "output_type": "stream",
          "name": "stdout",
          "text": [
            "[Epoch: 3, Num Mini-batches:  3947] Training loss: 2.095\n",
            "[Epoch: 3, Num Mini-batches:   658] Validation loss: 2.082\n"
          ]
        },
        {
          "output_type": "stream",
          "name": "stderr",
          "text": [
            "Training for Fold Number 0; Epoch Number 4: 3947it [00:03, 1176.19it/s]\n"
          ]
        },
        {
          "output_type": "stream",
          "name": "stdout",
          "text": [
            "[Epoch: 4, Num Mini-batches:  3947] Training loss: 2.061\n",
            "[Epoch: 4, Num Mini-batches:   658] Validation loss: 2.046\n"
          ]
        },
        {
          "output_type": "stream",
          "name": "stderr",
          "text": [
            "Training for Fold Number 0; Epoch Number 5: 3947it [00:03, 1158.52it/s]\n"
          ]
        },
        {
          "output_type": "stream",
          "name": "stdout",
          "text": [
            "[Epoch: 5, Num Mini-batches:  3947] Training loss: 2.022\n",
            "[Epoch: 5, Num Mini-batches:   658] Validation loss: 2.006\n"
          ]
        },
        {
          "output_type": "stream",
          "name": "stderr",
          "text": [
            "Training for Fold Number 0; Epoch Number 6: 3947it [00:03, 1179.16it/s]\n"
          ]
        },
        {
          "output_type": "stream",
          "name": "stdout",
          "text": [
            "[Epoch: 6, Num Mini-batches:  3947] Training loss: 1.983\n",
            "[Epoch: 6, Num Mini-batches:   658] Validation loss: 1.969\n"
          ]
        },
        {
          "output_type": "stream",
          "name": "stderr",
          "text": [
            "Training for Fold Number 0; Epoch Number 7: 3947it [00:03, 1147.46it/s]\n"
          ]
        },
        {
          "output_type": "stream",
          "name": "stdout",
          "text": [
            "[Epoch: 7, Num Mini-batches:  3947] Training loss: 1.947\n",
            "[Epoch: 7, Num Mini-batches:   658] Validation loss: 1.935\n"
          ]
        },
        {
          "output_type": "stream",
          "name": "stderr",
          "text": [
            "Training for Fold Number 0; Epoch Number 8: 3947it [00:03, 1183.88it/s]\n"
          ]
        },
        {
          "output_type": "stream",
          "name": "stdout",
          "text": [
            "[Epoch: 8, Num Mini-batches:  3947] Training loss: 1.914\n",
            "[Epoch: 8, Num Mini-batches:   658] Validation loss: 1.905\n"
          ]
        },
        {
          "output_type": "stream",
          "name": "stderr",
          "text": [
            "Training for Fold Number 0; Epoch Number 9: 3947it [00:03, 1167.24it/s]\n"
          ]
        },
        {
          "output_type": "stream",
          "name": "stdout",
          "text": [
            "[Epoch: 9, Num Mini-batches:  3947] Training loss: 1.887\n",
            "[Epoch: 9, Num Mini-batches:   658] Validation loss: 1.881\n"
          ]
        },
        {
          "output_type": "stream",
          "name": "stderr",
          "text": [
            "Training for Fold Number 0; Epoch Number 10: 3947it [00:03, 1181.19it/s]\n"
          ]
        },
        {
          "output_type": "stream",
          "name": "stdout",
          "text": [
            "[Epoch: 10, Num Mini-batches:  3947] Training loss: 1.866\n",
            "[Epoch: 10, Num Mini-batches:   658] Validation loss: 1.863\n"
          ]
        },
        {
          "output_type": "stream",
          "name": "stderr",
          "text": [
            "Training for Fold Number 0; Epoch Number 11: 3947it [00:03, 1171.37it/s]\n"
          ]
        },
        {
          "output_type": "stream",
          "name": "stdout",
          "text": [
            "[Epoch: 11, Num Mini-batches:  3947] Training loss: 1.849\n",
            "[Epoch: 11, Num Mini-batches:   658] Validation loss: 1.849\n"
          ]
        },
        {
          "output_type": "stream",
          "name": "stderr",
          "text": [
            "Training for Fold Number 0; Epoch Number 12: 3947it [00:03, 1189.53it/s]\n"
          ]
        },
        {
          "output_type": "stream",
          "name": "stdout",
          "text": [
            "[Epoch: 12, Num Mini-batches:  3947] Training loss: 1.837\n",
            "[Epoch: 12, Num Mini-batches:   658] Validation loss: 1.837\n"
          ]
        },
        {
          "output_type": "stream",
          "name": "stderr",
          "text": [
            "Training for Fold Number 0; Epoch Number 13: 3947it [00:03, 1184.33it/s]\n"
          ]
        },
        {
          "output_type": "stream",
          "name": "stdout",
          "text": [
            "[Epoch: 13, Num Mini-batches:  3947] Training loss: 1.826\n",
            "[Epoch: 13, Num Mini-batches:   658] Validation loss: 1.828\n"
          ]
        },
        {
          "output_type": "stream",
          "name": "stderr",
          "text": [
            "Training for Fold Number 0; Epoch Number 14: 3947it [00:03, 1165.34it/s]\n"
          ]
        },
        {
          "output_type": "stream",
          "name": "stdout",
          "text": [
            "[Epoch: 14, Num Mini-batches:  3947] Training loss: 1.818\n",
            "[Epoch: 14, Num Mini-batches:   658] Validation loss: 1.821\n"
          ]
        },
        {
          "output_type": "stream",
          "name": "stderr",
          "text": [
            "Training for Fold Number 0; Epoch Number 15: 3947it [00:03, 1179.52it/s]\n"
          ]
        },
        {
          "output_type": "stream",
          "name": "stdout",
          "text": [
            "[Epoch: 15, Num Mini-batches:  3947] Training loss: 1.811\n",
            "[Epoch: 15, Num Mini-batches:   658] Validation loss: 1.815\n"
          ]
        },
        {
          "output_type": "stream",
          "name": "stderr",
          "text": [
            "Training for Fold Number 0; Epoch Number 16: 3947it [00:03, 1162.88it/s]\n"
          ]
        },
        {
          "output_type": "stream",
          "name": "stdout",
          "text": [
            "[Epoch: 16, Num Mini-batches:  3947] Training loss: 1.805\n",
            "[Epoch: 16, Num Mini-batches:   658] Validation loss: 1.809\n"
          ]
        },
        {
          "output_type": "stream",
          "name": "stderr",
          "text": [
            "Training for Fold Number 0; Epoch Number 17: 3947it [00:03, 1167.18it/s]\n"
          ]
        },
        {
          "output_type": "stream",
          "name": "stdout",
          "text": [
            "[Epoch: 17, Num Mini-batches:  3947] Training loss: 1.800\n",
            "[Epoch: 17, Num Mini-batches:   658] Validation loss: 1.804\n"
          ]
        },
        {
          "output_type": "stream",
          "name": "stderr",
          "text": [
            "Training for Fold Number 0; Epoch Number 18: 3947it [00:03, 1177.50it/s]\n"
          ]
        },
        {
          "output_type": "stream",
          "name": "stdout",
          "text": [
            "[Epoch: 18, Num Mini-batches:  3947] Training loss: 1.794\n",
            "[Epoch: 18, Num Mini-batches:   658] Validation loss: 1.798\n"
          ]
        },
        {
          "output_type": "stream",
          "name": "stderr",
          "text": [
            "Training for Fold Number 0; Epoch Number 19: 3947it [00:03, 1185.34it/s]\n"
          ]
        },
        {
          "output_type": "stream",
          "name": "stdout",
          "text": [
            "[Epoch: 19, Num Mini-batches:  3947] Training loss: 1.789\n",
            "[Epoch: 19, Num Mini-batches:   658] Validation loss: 1.793\n"
          ]
        },
        {
          "output_type": "stream",
          "name": "stderr",
          "text": [
            "Training for Fold Number 0; Epoch Number 20: 3947it [00:03, 1186.96it/s]\n"
          ]
        },
        {
          "output_type": "stream",
          "name": "stdout",
          "text": [
            "[Epoch: 20, Num Mini-batches:  3947] Training loss: 1.783\n",
            "[Epoch: 20, Num Mini-batches:   658] Validation loss: 1.787\n"
          ]
        },
        {
          "output_type": "stream",
          "name": "stderr",
          "text": [
            "Training for Fold Number 0; Epoch Number 21: 3947it [00:03, 1171.76it/s]\n"
          ]
        },
        {
          "output_type": "stream",
          "name": "stdout",
          "text": [
            "[Epoch: 21, Num Mini-batches:  3947] Training loss: 1.777\n",
            "[Epoch: 21, Num Mini-batches:   658] Validation loss: 1.781\n"
          ]
        },
        {
          "output_type": "stream",
          "name": "stderr",
          "text": [
            "Training for Fold Number 0; Epoch Number 22: 3947it [00:03, 1167.37it/s]\n"
          ]
        },
        {
          "output_type": "stream",
          "name": "stdout",
          "text": [
            "[Epoch: 22, Num Mini-batches:  3947] Training loss: 1.772\n",
            "[Epoch: 22, Num Mini-batches:   658] Validation loss: 1.776\n"
          ]
        },
        {
          "output_type": "stream",
          "name": "stderr",
          "text": [
            "Training for Fold Number 0; Epoch Number 23: 3947it [00:03, 1142.55it/s]\n"
          ]
        },
        {
          "output_type": "stream",
          "name": "stdout",
          "text": [
            "[Epoch: 23, Num Mini-batches:  3947] Training loss: 1.767\n",
            "[Epoch: 23, Num Mini-batches:   658] Validation loss: 1.772\n"
          ]
        },
        {
          "output_type": "stream",
          "name": "stderr",
          "text": [
            "Training for Fold Number 0; Epoch Number 24: 3947it [00:03, 1179.36it/s]\n"
          ]
        },
        {
          "output_type": "stream",
          "name": "stdout",
          "text": [
            "[Epoch: 24, Num Mini-batches:  3947] Training loss: 1.762\n",
            "[Epoch: 24, Num Mini-batches:   658] Validation loss: 1.767\n"
          ]
        },
        {
          "output_type": "stream",
          "name": "stderr",
          "text": [
            "Training for Fold Number 0; Epoch Number 25: 3947it [00:03, 1164.36it/s]\n"
          ]
        },
        {
          "output_type": "stream",
          "name": "stdout",
          "text": [
            "[Epoch: 25, Num Mini-batches:  3947] Training loss: 1.758\n",
            "[Epoch: 25, Num Mini-batches:   658] Validation loss: 1.764\n"
          ]
        },
        {
          "output_type": "stream",
          "name": "stderr",
          "text": [
            "Training for Fold Number 0; Epoch Number 26: 3947it [00:03, 1170.62it/s]\n"
          ]
        },
        {
          "output_type": "stream",
          "name": "stdout",
          "text": [
            "[Epoch: 26, Num Mini-batches:  3947] Training loss: 1.755\n",
            "[Epoch: 26, Num Mini-batches:   658] Validation loss: 1.760\n"
          ]
        },
        {
          "output_type": "stream",
          "name": "stderr",
          "text": [
            "Training for Fold Number 0; Epoch Number 27: 3947it [00:03, 1176.55it/s]\n"
          ]
        },
        {
          "output_type": "stream",
          "name": "stdout",
          "text": [
            "[Epoch: 27, Num Mini-batches:  3947] Training loss: 1.751\n",
            "[Epoch: 27, Num Mini-batches:   658] Validation loss: 1.757\n"
          ]
        },
        {
          "output_type": "stream",
          "name": "stderr",
          "text": [
            "Training for Fold Number 0; Epoch Number 28: 3947it [00:03, 1171.75it/s]\n"
          ]
        },
        {
          "output_type": "stream",
          "name": "stdout",
          "text": [
            "[Epoch: 28, Num Mini-batches:  3947] Training loss: 1.748\n",
            "[Epoch: 28, Num Mini-batches:   658] Validation loss: 1.754\n"
          ]
        },
        {
          "output_type": "stream",
          "name": "stderr",
          "text": [
            "Training for Fold Number 0; Epoch Number 29: 3947it [00:03, 1174.94it/s]\n"
          ]
        },
        {
          "output_type": "stream",
          "name": "stdout",
          "text": [
            "[Epoch: 29, Num Mini-batches:  3947] Training loss: 1.746\n",
            "[Epoch: 29, Num Mini-batches:   658] Validation loss: 1.752\n",
            "\n",
            "\n"
          ]
        },
        {
          "output_type": "stream",
          "name": "stderr",
          "text": [
            "Training for Fold Number 1; Epoch Number 0: 3947it [00:03, 1145.25it/s]\n"
          ]
        },
        {
          "output_type": "stream",
          "name": "stdout",
          "text": [
            "[Epoch: 0, Num Mini-batches:  3947] Training loss: 2.565\n",
            "[Epoch: 0, Num Mini-batches:   658] Validation loss: 2.344\n"
          ]
        },
        {
          "output_type": "stream",
          "name": "stderr",
          "text": [
            "Training for Fold Number 1; Epoch Number 1: 3947it [00:03, 1176.88it/s]\n"
          ]
        },
        {
          "output_type": "stream",
          "name": "stdout",
          "text": [
            "[Epoch: 1, Num Mini-batches:  3947] Training loss: 2.211\n",
            "[Epoch: 1, Num Mini-batches:   658] Validation loss: 2.129\n"
          ]
        },
        {
          "output_type": "stream",
          "name": "stderr",
          "text": [
            "Training for Fold Number 1; Epoch Number 2: 3947it [00:03, 1171.93it/s]\n"
          ]
        },
        {
          "output_type": "stream",
          "name": "stdout",
          "text": [
            "[Epoch: 2, Num Mini-batches:  3947] Training loss: 2.090\n",
            "[Epoch: 2, Num Mini-batches:   658] Validation loss: 2.061\n"
          ]
        },
        {
          "output_type": "stream",
          "name": "stderr",
          "text": [
            "Training for Fold Number 1; Epoch Number 3: 3947it [00:03, 1161.96it/s]\n"
          ]
        },
        {
          "output_type": "stream",
          "name": "stdout",
          "text": [
            "[Epoch: 3, Num Mini-batches:  3947] Training loss: 2.031\n",
            "[Epoch: 3, Num Mini-batches:   658] Validation loss: 2.007\n"
          ]
        },
        {
          "output_type": "stream",
          "name": "stderr",
          "text": [
            "Training for Fold Number 1; Epoch Number 4: 3947it [00:03, 1184.17it/s]\n"
          ]
        },
        {
          "output_type": "stream",
          "name": "stdout",
          "text": [
            "[Epoch: 4, Num Mini-batches:  3947] Training loss: 1.981\n",
            "[Epoch: 4, Num Mini-batches:   658] Validation loss: 1.958\n"
          ]
        },
        {
          "output_type": "stream",
          "name": "stderr",
          "text": [
            "Training for Fold Number 1; Epoch Number 5: 3947it [00:03, 1170.35it/s]\n"
          ]
        },
        {
          "output_type": "stream",
          "name": "stdout",
          "text": [
            "[Epoch: 5, Num Mini-batches:  3947] Training loss: 1.936\n",
            "[Epoch: 5, Num Mini-batches:   658] Validation loss: 1.916\n"
          ]
        },
        {
          "output_type": "stream",
          "name": "stderr",
          "text": [
            "Training for Fold Number 1; Epoch Number 6: 3947it [00:03, 1169.82it/s]\n"
          ]
        },
        {
          "output_type": "stream",
          "name": "stdout",
          "text": [
            "[Epoch: 6, Num Mini-batches:  3947] Training loss: 1.896\n",
            "[Epoch: 6, Num Mini-batches:   658] Validation loss: 1.878\n"
          ]
        },
        {
          "output_type": "stream",
          "name": "stderr",
          "text": [
            "Training for Fold Number 1; Epoch Number 7: 3947it [00:03, 1168.95it/s]\n"
          ]
        },
        {
          "output_type": "stream",
          "name": "stdout",
          "text": [
            "[Epoch: 7, Num Mini-batches:  3947] Training loss: 1.862\n",
            "[Epoch: 7, Num Mini-batches:   658] Validation loss: 1.846\n"
          ]
        },
        {
          "output_type": "stream",
          "name": "stderr",
          "text": [
            "Training for Fold Number 1; Epoch Number 8: 3947it [00:03, 1153.70it/s]\n"
          ]
        },
        {
          "output_type": "stream",
          "name": "stdout",
          "text": [
            "[Epoch: 8, Num Mini-batches:  3947] Training loss: 1.833\n",
            "[Epoch: 8, Num Mini-batches:   658] Validation loss: 1.819\n"
          ]
        },
        {
          "output_type": "stream",
          "name": "stderr",
          "text": [
            "Training for Fold Number 1; Epoch Number 9: 3947it [00:03, 1160.72it/s]\n"
          ]
        },
        {
          "output_type": "stream",
          "name": "stdout",
          "text": [
            "[Epoch: 9, Num Mini-batches:  3947] Training loss: 1.808\n",
            "[Epoch: 9, Num Mini-batches:   658] Validation loss: 1.796\n"
          ]
        },
        {
          "output_type": "stream",
          "name": "stderr",
          "text": [
            "Training for Fold Number 1; Epoch Number 10: 3947it [00:03, 1176.24it/s]\n"
          ]
        },
        {
          "output_type": "stream",
          "name": "stdout",
          "text": [
            "[Epoch: 10, Num Mini-batches:  3947] Training loss: 1.787\n",
            "[Epoch: 10, Num Mini-batches:   658] Validation loss: 1.777\n"
          ]
        },
        {
          "output_type": "stream",
          "name": "stderr",
          "text": [
            "Training for Fold Number 1; Epoch Number 11: 3947it [00:03, 1135.02it/s]\n"
          ]
        },
        {
          "output_type": "stream",
          "name": "stdout",
          "text": [
            "[Epoch: 11, Num Mini-batches:  3947] Training loss: 1.770\n",
            "[Epoch: 11, Num Mini-batches:   658] Validation loss: 1.760\n"
          ]
        },
        {
          "output_type": "stream",
          "name": "stderr",
          "text": [
            "Training for Fold Number 1; Epoch Number 12: 3947it [00:03, 1147.70it/s]\n"
          ]
        },
        {
          "output_type": "stream",
          "name": "stdout",
          "text": [
            "[Epoch: 12, Num Mini-batches:  3947] Training loss: 1.755\n",
            "[Epoch: 12, Num Mini-batches:   658] Validation loss: 1.747\n"
          ]
        },
        {
          "output_type": "stream",
          "name": "stderr",
          "text": [
            "Training for Fold Number 1; Epoch Number 13: 3947it [00:03, 1150.80it/s]\n"
          ]
        },
        {
          "output_type": "stream",
          "name": "stdout",
          "text": [
            "[Epoch: 13, Num Mini-batches:  3947] Training loss: 1.742\n",
            "[Epoch: 13, Num Mini-batches:   658] Validation loss: 1.735\n"
          ]
        },
        {
          "output_type": "stream",
          "name": "stderr",
          "text": [
            "Training for Fold Number 1; Epoch Number 14: 3947it [00:03, 1138.46it/s]\n"
          ]
        },
        {
          "output_type": "stream",
          "name": "stdout",
          "text": [
            "[Epoch: 14, Num Mini-batches:  3947] Training loss: 1.731\n",
            "[Epoch: 14, Num Mini-batches:   658] Validation loss: 1.725\n"
          ]
        },
        {
          "output_type": "stream",
          "name": "stderr",
          "text": [
            "Training for Fold Number 1; Epoch Number 15: 3947it [00:03, 1125.70it/s]\n"
          ]
        },
        {
          "output_type": "stream",
          "name": "stdout",
          "text": [
            "[Epoch: 15, Num Mini-batches:  3947] Training loss: 1.722\n",
            "[Epoch: 15, Num Mini-batches:   658] Validation loss: 1.716\n"
          ]
        },
        {
          "output_type": "stream",
          "name": "stderr",
          "text": [
            "Training for Fold Number 1; Epoch Number 16: 3947it [00:03, 1145.75it/s]\n"
          ]
        },
        {
          "output_type": "stream",
          "name": "stdout",
          "text": [
            "[Epoch: 16, Num Mini-batches:  3947] Training loss: 1.714\n",
            "[Epoch: 16, Num Mini-batches:   658] Validation loss: 1.709\n"
          ]
        },
        {
          "output_type": "stream",
          "name": "stderr",
          "text": [
            "Training for Fold Number 1; Epoch Number 17: 3947it [00:03, 1155.01it/s]\n"
          ]
        },
        {
          "output_type": "stream",
          "name": "stdout",
          "text": [
            "[Epoch: 17, Num Mini-batches:  3947] Training loss: 1.708\n",
            "[Epoch: 17, Num Mini-batches:   658] Validation loss: 1.702\n"
          ]
        },
        {
          "output_type": "stream",
          "name": "stderr",
          "text": [
            "Training for Fold Number 1; Epoch Number 18: 3947it [00:03, 1165.52it/s]\n"
          ]
        },
        {
          "output_type": "stream",
          "name": "stdout",
          "text": [
            "[Epoch: 18, Num Mini-batches:  3947] Training loss: 1.702\n",
            "[Epoch: 18, Num Mini-batches:   658] Validation loss: 1.697\n"
          ]
        },
        {
          "output_type": "stream",
          "name": "stderr",
          "text": [
            "Training for Fold Number 1; Epoch Number 19: 3947it [00:03, 1178.55it/s]\n"
          ]
        },
        {
          "output_type": "stream",
          "name": "stdout",
          "text": [
            "[Epoch: 19, Num Mini-batches:  3947] Training loss: 1.697\n",
            "[Epoch: 19, Num Mini-batches:   658] Validation loss: 1.692\n"
          ]
        },
        {
          "output_type": "stream",
          "name": "stderr",
          "text": [
            "Training for Fold Number 1; Epoch Number 20: 3947it [00:03, 1176.40it/s]\n"
          ]
        },
        {
          "output_type": "stream",
          "name": "stdout",
          "text": [
            "[Epoch: 20, Num Mini-batches:  3947] Training loss: 1.693\n",
            "[Epoch: 20, Num Mini-batches:   658] Validation loss: 1.688\n"
          ]
        },
        {
          "output_type": "stream",
          "name": "stderr",
          "text": [
            "Training for Fold Number 1; Epoch Number 21: 3947it [00:03, 1163.30it/s]\n"
          ]
        },
        {
          "output_type": "stream",
          "name": "stdout",
          "text": [
            "[Epoch: 21, Num Mini-batches:  3947] Training loss: 1.689\n",
            "[Epoch: 21, Num Mini-batches:   658] Validation loss: 1.685\n"
          ]
        },
        {
          "output_type": "stream",
          "name": "stderr",
          "text": [
            "Training for Fold Number 1; Epoch Number 22: 3947it [00:03, 1162.68it/s]\n"
          ]
        },
        {
          "output_type": "stream",
          "name": "stdout",
          "text": [
            "[Epoch: 22, Num Mini-batches:  3947] Training loss: 1.686\n",
            "[Epoch: 22, Num Mini-batches:   658] Validation loss: 1.681\n"
          ]
        },
        {
          "output_type": "stream",
          "name": "stderr",
          "text": [
            "Training for Fold Number 1; Epoch Number 23: 3947it [00:03, 1156.69it/s]\n"
          ]
        },
        {
          "output_type": "stream",
          "name": "stdout",
          "text": [
            "[Epoch: 23, Num Mini-batches:  3947] Training loss: 1.683\n",
            "[Epoch: 23, Num Mini-batches:   658] Validation loss: 1.678\n"
          ]
        },
        {
          "output_type": "stream",
          "name": "stderr",
          "text": [
            "Training for Fold Number 1; Epoch Number 24: 3947it [00:03, 1153.03it/s]\n"
          ]
        },
        {
          "output_type": "stream",
          "name": "stdout",
          "text": [
            "[Epoch: 24, Num Mini-batches:  3947] Training loss: 1.680\n",
            "[Epoch: 24, Num Mini-batches:   658] Validation loss: 1.676\n"
          ]
        },
        {
          "output_type": "stream",
          "name": "stderr",
          "text": [
            "Training for Fold Number 1; Epoch Number 25: 3947it [00:03, 1147.97it/s]\n"
          ]
        },
        {
          "output_type": "stream",
          "name": "stdout",
          "text": [
            "[Epoch: 25, Num Mini-batches:  3947] Training loss: 1.677\n",
            "[Epoch: 25, Num Mini-batches:   658] Validation loss: 1.673\n"
          ]
        },
        {
          "output_type": "stream",
          "name": "stderr",
          "text": [
            "Training for Fold Number 1; Epoch Number 26: 3947it [00:03, 1179.66it/s]\n"
          ]
        },
        {
          "output_type": "stream",
          "name": "stdout",
          "text": [
            "[Epoch: 26, Num Mini-batches:  3947] Training loss: 1.675\n",
            "[Epoch: 26, Num Mini-batches:   658] Validation loss: 1.671\n"
          ]
        },
        {
          "output_type": "stream",
          "name": "stderr",
          "text": [
            "Training for Fold Number 1; Epoch Number 27: 3947it [00:03, 1155.28it/s]\n"
          ]
        },
        {
          "output_type": "stream",
          "name": "stdout",
          "text": [
            "[Epoch: 27, Num Mini-batches:  3947] Training loss: 1.673\n",
            "[Epoch: 27, Num Mini-batches:   658] Validation loss: 1.669\n"
          ]
        },
        {
          "output_type": "stream",
          "name": "stderr",
          "text": [
            "Training for Fold Number 1; Epoch Number 28: 3947it [00:03, 1171.07it/s]\n"
          ]
        },
        {
          "output_type": "stream",
          "name": "stdout",
          "text": [
            "[Epoch: 28, Num Mini-batches:  3947] Training loss: 1.671\n",
            "[Epoch: 28, Num Mini-batches:   658] Validation loss: 1.667\n"
          ]
        },
        {
          "output_type": "stream",
          "name": "stderr",
          "text": [
            "Training for Fold Number 1; Epoch Number 29: 3947it [00:03, 1169.12it/s]\n"
          ]
        },
        {
          "output_type": "stream",
          "name": "stdout",
          "text": [
            "[Epoch: 29, Num Mini-batches:  3947] Training loss: 1.669\n",
            "[Epoch: 29, Num Mini-batches:   658] Validation loss: 1.666\n",
            "\n",
            "\n"
          ]
        },
        {
          "output_type": "stream",
          "name": "stderr",
          "text": [
            "Training for Fold Number 2; Epoch Number 0: 3947it [00:03, 1148.37it/s]\n"
          ]
        },
        {
          "output_type": "stream",
          "name": "stdout",
          "text": [
            "[Epoch: 0, Num Mini-batches:  3947] Training loss: 2.440\n",
            "[Epoch: 0, Num Mini-batches:   658] Validation loss: 2.270\n"
          ]
        },
        {
          "output_type": "stream",
          "name": "stderr",
          "text": [
            "Training for Fold Number 2; Epoch Number 1: 3947it [00:03, 1149.70it/s]\n"
          ]
        },
        {
          "output_type": "stream",
          "name": "stdout",
          "text": [
            "[Epoch: 1, Num Mini-batches:  3947] Training loss: 2.190\n",
            "[Epoch: 1, Num Mini-batches:   658] Validation loss: 2.137\n"
          ]
        },
        {
          "output_type": "stream",
          "name": "stderr",
          "text": [
            "Training for Fold Number 2; Epoch Number 2: 3947it [00:03, 1183.56it/s]\n"
          ]
        },
        {
          "output_type": "stream",
          "name": "stdout",
          "text": [
            "[Epoch: 2, Num Mini-batches:  3947] Training loss: 2.105\n",
            "[Epoch: 2, Num Mini-batches:   658] Validation loss: 2.077\n"
          ]
        },
        {
          "output_type": "stream",
          "name": "stderr",
          "text": [
            "Training for Fold Number 2; Epoch Number 3: 3947it [00:03, 1161.34it/s]\n"
          ]
        },
        {
          "output_type": "stream",
          "name": "stdout",
          "text": [
            "[Epoch: 3, Num Mini-batches:  3947] Training loss: 2.053\n",
            "[Epoch: 3, Num Mini-batches:   658] Validation loss: 2.031\n"
          ]
        },
        {
          "output_type": "stream",
          "name": "stderr",
          "text": [
            "Training for Fold Number 2; Epoch Number 4: 3947it [00:03, 1151.89it/s]\n"
          ]
        },
        {
          "output_type": "stream",
          "name": "stdout",
          "text": [
            "[Epoch: 4, Num Mini-batches:  3947] Training loss: 2.009\n",
            "[Epoch: 4, Num Mini-batches:   658] Validation loss: 1.991\n"
          ]
        },
        {
          "output_type": "stream",
          "name": "stderr",
          "text": [
            "Training for Fold Number 2; Epoch Number 5: 3947it [00:03, 1161.37it/s]\n"
          ]
        },
        {
          "output_type": "stream",
          "name": "stdout",
          "text": [
            "[Epoch: 5, Num Mini-batches:  3947] Training loss: 1.970\n",
            "[Epoch: 5, Num Mini-batches:   658] Validation loss: 1.953\n"
          ]
        },
        {
          "output_type": "stream",
          "name": "stderr",
          "text": [
            "Training for Fold Number 2; Epoch Number 6: 3947it [00:03, 1143.20it/s]\n"
          ]
        },
        {
          "output_type": "stream",
          "name": "stdout",
          "text": [
            "[Epoch: 6, Num Mini-batches:  3947] Training loss: 1.932\n",
            "[Epoch: 6, Num Mini-batches:   658] Validation loss: 1.917\n"
          ]
        },
        {
          "output_type": "stream",
          "name": "stderr",
          "text": [
            "Training for Fold Number 2; Epoch Number 7: 3947it [00:03, 1163.07it/s]\n"
          ]
        },
        {
          "output_type": "stream",
          "name": "stdout",
          "text": [
            "[Epoch: 7, Num Mini-batches:  3947] Training loss: 1.897\n",
            "[Epoch: 7, Num Mini-batches:   658] Validation loss: 1.884\n"
          ]
        },
        {
          "output_type": "stream",
          "name": "stderr",
          "text": [
            "Training for Fold Number 2; Epoch Number 8: 3947it [00:03, 1155.22it/s]\n"
          ]
        },
        {
          "output_type": "stream",
          "name": "stdout",
          "text": [
            "[Epoch: 8, Num Mini-batches:  3947] Training loss: 1.865\n",
            "[Epoch: 8, Num Mini-batches:   658] Validation loss: 1.855\n"
          ]
        },
        {
          "output_type": "stream",
          "name": "stderr",
          "text": [
            "Training for Fold Number 2; Epoch Number 9: 3947it [00:03, 1159.54it/s]\n"
          ]
        },
        {
          "output_type": "stream",
          "name": "stdout",
          "text": [
            "[Epoch: 9, Num Mini-batches:  3947] Training loss: 1.837\n",
            "[Epoch: 9, Num Mini-batches:   658] Validation loss: 1.829\n"
          ]
        },
        {
          "output_type": "stream",
          "name": "stderr",
          "text": [
            "Training for Fold Number 2; Epoch Number 10: 3947it [00:03, 1184.08it/s]\n"
          ]
        },
        {
          "output_type": "stream",
          "name": "stdout",
          "text": [
            "[Epoch: 10, Num Mini-batches:  3947] Training loss: 1.812\n",
            "[Epoch: 10, Num Mini-batches:   658] Validation loss: 1.807\n"
          ]
        },
        {
          "output_type": "stream",
          "name": "stderr",
          "text": [
            "Training for Fold Number 2; Epoch Number 11: 3947it [00:03, 1162.39it/s]\n"
          ]
        },
        {
          "output_type": "stream",
          "name": "stdout",
          "text": [
            "[Epoch: 11, Num Mini-batches:  3947] Training loss: 1.791\n",
            "[Epoch: 11, Num Mini-batches:   658] Validation loss: 1.788\n"
          ]
        },
        {
          "output_type": "stream",
          "name": "stderr",
          "text": [
            "Training for Fold Number 2; Epoch Number 12: 3947it [00:03, 1159.76it/s]\n"
          ]
        },
        {
          "output_type": "stream",
          "name": "stdout",
          "text": [
            "[Epoch: 12, Num Mini-batches:  3947] Training loss: 1.774\n",
            "[Epoch: 12, Num Mini-batches:   658] Validation loss: 1.772\n"
          ]
        },
        {
          "output_type": "stream",
          "name": "stderr",
          "text": [
            "Training for Fold Number 2; Epoch Number 13: 3947it [00:03, 1149.21it/s]\n"
          ]
        },
        {
          "output_type": "stream",
          "name": "stdout",
          "text": [
            "[Epoch: 13, Num Mini-batches:  3947] Training loss: 1.759\n",
            "[Epoch: 13, Num Mini-batches:   658] Validation loss: 1.760\n"
          ]
        },
        {
          "output_type": "stream",
          "name": "stderr",
          "text": [
            "Training for Fold Number 2; Epoch Number 14: 3947it [00:03, 1153.74it/s]\n"
          ]
        },
        {
          "output_type": "stream",
          "name": "stdout",
          "text": [
            "[Epoch: 14, Num Mini-batches:  3947] Training loss: 1.748\n",
            "[Epoch: 14, Num Mini-batches:   658] Validation loss: 1.749\n"
          ]
        },
        {
          "output_type": "stream",
          "name": "stderr",
          "text": [
            "Training for Fold Number 2; Epoch Number 15: 3947it [00:03, 1163.56it/s]\n"
          ]
        },
        {
          "output_type": "stream",
          "name": "stdout",
          "text": [
            "[Epoch: 15, Num Mini-batches:  3947] Training loss: 1.738\n",
            "[Epoch: 15, Num Mini-batches:   658] Validation loss: 1.741\n"
          ]
        },
        {
          "output_type": "stream",
          "name": "stderr",
          "text": [
            "Training for Fold Number 2; Epoch Number 16: 3947it [00:03, 1159.77it/s]\n"
          ]
        },
        {
          "output_type": "stream",
          "name": "stdout",
          "text": [
            "[Epoch: 16, Num Mini-batches:  3947] Training loss: 1.730\n",
            "[Epoch: 16, Num Mini-batches:   658] Validation loss: 1.734\n"
          ]
        },
        {
          "output_type": "stream",
          "name": "stderr",
          "text": [
            "Training for Fold Number 2; Epoch Number 17: 3947it [00:03, 1144.52it/s]\n"
          ]
        },
        {
          "output_type": "stream",
          "name": "stdout",
          "text": [
            "[Epoch: 17, Num Mini-batches:  3947] Training loss: 1.724\n",
            "[Epoch: 17, Num Mini-batches:   658] Validation loss: 1.728\n"
          ]
        },
        {
          "output_type": "stream",
          "name": "stderr",
          "text": [
            "Training for Fold Number 2; Epoch Number 18: 3947it [00:03, 1137.17it/s]\n"
          ]
        },
        {
          "output_type": "stream",
          "name": "stdout",
          "text": [
            "[Epoch: 18, Num Mini-batches:  3947] Training loss: 1.718\n",
            "[Epoch: 18, Num Mini-batches:   658] Validation loss: 1.722\n"
          ]
        },
        {
          "output_type": "stream",
          "name": "stderr",
          "text": [
            "Training for Fold Number 2; Epoch Number 19: 3947it [00:03, 1140.28it/s]\n"
          ]
        },
        {
          "output_type": "stream",
          "name": "stdout",
          "text": [
            "[Epoch: 19, Num Mini-batches:  3947] Training loss: 1.712\n",
            "[Epoch: 19, Num Mini-batches:   658] Validation loss: 1.716\n"
          ]
        },
        {
          "output_type": "stream",
          "name": "stderr",
          "text": [
            "Training for Fold Number 2; Epoch Number 20: 3947it [00:03, 1140.94it/s]\n"
          ]
        },
        {
          "output_type": "stream",
          "name": "stdout",
          "text": [
            "[Epoch: 20, Num Mini-batches:  3947] Training loss: 1.705\n",
            "[Epoch: 20, Num Mini-batches:   658] Validation loss: 1.708\n"
          ]
        },
        {
          "output_type": "stream",
          "name": "stderr",
          "text": [
            "Training for Fold Number 2; Epoch Number 21: 3947it [00:03, 1138.52it/s]\n"
          ]
        },
        {
          "output_type": "stream",
          "name": "stdout",
          "text": [
            "[Epoch: 21, Num Mini-batches:  3947] Training loss: 1.695\n",
            "[Epoch: 21, Num Mini-batches:   658] Validation loss: 1.698\n"
          ]
        },
        {
          "output_type": "stream",
          "name": "stderr",
          "text": [
            "Training for Fold Number 2; Epoch Number 22: 3947it [00:03, 1154.95it/s]\n"
          ]
        },
        {
          "output_type": "stream",
          "name": "stdout",
          "text": [
            "[Epoch: 22, Num Mini-batches:  3947] Training loss: 1.686\n",
            "[Epoch: 22, Num Mini-batches:   658] Validation loss: 1.690\n"
          ]
        },
        {
          "output_type": "stream",
          "name": "stderr",
          "text": [
            "Training for Fold Number 2; Epoch Number 23: 3947it [00:03, 1173.78it/s]\n"
          ]
        },
        {
          "output_type": "stream",
          "name": "stdout",
          "text": [
            "[Epoch: 23, Num Mini-batches:  3947] Training loss: 1.678\n",
            "[Epoch: 23, Num Mini-batches:   658] Validation loss: 1.683\n"
          ]
        },
        {
          "output_type": "stream",
          "name": "stderr",
          "text": [
            "Training for Fold Number 2; Epoch Number 24: 3947it [00:03, 1172.61it/s]\n"
          ]
        },
        {
          "output_type": "stream",
          "name": "stdout",
          "text": [
            "[Epoch: 24, Num Mini-batches:  3947] Training loss: 1.672\n",
            "[Epoch: 24, Num Mini-batches:   658] Validation loss: 1.678\n"
          ]
        },
        {
          "output_type": "stream",
          "name": "stderr",
          "text": [
            "Training for Fold Number 2; Epoch Number 25: 3947it [00:03, 1155.15it/s]\n"
          ]
        },
        {
          "output_type": "stream",
          "name": "stdout",
          "text": [
            "[Epoch: 25, Num Mini-batches:  3947] Training loss: 1.668\n",
            "[Epoch: 25, Num Mini-batches:   658] Validation loss: 1.674\n"
          ]
        },
        {
          "output_type": "stream",
          "name": "stderr",
          "text": [
            "Training for Fold Number 2; Epoch Number 26: 3947it [00:03, 1156.24it/s]\n"
          ]
        },
        {
          "output_type": "stream",
          "name": "stdout",
          "text": [
            "[Epoch: 26, Num Mini-batches:  3947] Training loss: 1.664\n",
            "[Epoch: 26, Num Mini-batches:   658] Validation loss: 1.671\n"
          ]
        },
        {
          "output_type": "stream",
          "name": "stderr",
          "text": [
            "Training for Fold Number 2; Epoch Number 27: 3947it [00:03, 1171.53it/s]\n"
          ]
        },
        {
          "output_type": "stream",
          "name": "stdout",
          "text": [
            "[Epoch: 27, Num Mini-batches:  3947] Training loss: 1.660\n",
            "[Epoch: 27, Num Mini-batches:   658] Validation loss: 1.667\n"
          ]
        },
        {
          "output_type": "stream",
          "name": "stderr",
          "text": [
            "Training for Fold Number 2; Epoch Number 28: 3947it [00:03, 1153.18it/s]\n"
          ]
        },
        {
          "output_type": "stream",
          "name": "stdout",
          "text": [
            "[Epoch: 28, Num Mini-batches:  3947] Training loss: 1.657\n",
            "[Epoch: 28, Num Mini-batches:   658] Validation loss: 1.664\n"
          ]
        },
        {
          "output_type": "stream",
          "name": "stderr",
          "text": [
            "Training for Fold Number 2; Epoch Number 29: 3947it [00:03, 1157.13it/s]\n"
          ]
        },
        {
          "output_type": "stream",
          "name": "stdout",
          "text": [
            "[Epoch: 29, Num Mini-batches:  3947] Training loss: 1.654\n",
            "[Epoch: 29, Num Mini-batches:   658] Validation loss: 1.661\n",
            "\n",
            "\n"
          ]
        },
        {
          "output_type": "stream",
          "name": "stderr",
          "text": [
            "Training for Fold Number 3; Epoch Number 0: 3947it [00:03, 1154.37it/s]\n"
          ]
        },
        {
          "output_type": "stream",
          "name": "stdout",
          "text": [
            "[Epoch: 0, Num Mini-batches:  3947] Training loss: 2.344\n",
            "[Epoch: 0, Num Mini-batches:   658] Validation loss: 2.189\n"
          ]
        },
        {
          "output_type": "stream",
          "name": "stderr",
          "text": [
            "Training for Fold Number 3; Epoch Number 1: 3947it [00:03, 1168.91it/s]\n"
          ]
        },
        {
          "output_type": "stream",
          "name": "stdout",
          "text": [
            "[Epoch: 1, Num Mini-batches:  3947] Training loss: 2.145\n",
            "[Epoch: 1, Num Mini-batches:   658] Validation loss: 2.105\n"
          ]
        },
        {
          "output_type": "stream",
          "name": "stderr",
          "text": [
            "Training for Fold Number 3; Epoch Number 2: 3947it [00:03, 1147.18it/s]\n"
          ]
        },
        {
          "output_type": "stream",
          "name": "stdout",
          "text": [
            "[Epoch: 2, Num Mini-batches:  3947] Training loss: 2.097\n",
            "[Epoch: 2, Num Mini-batches:   658] Validation loss: 2.073\n"
          ]
        },
        {
          "output_type": "stream",
          "name": "stderr",
          "text": [
            "Training for Fold Number 3; Epoch Number 3: 3947it [00:03, 1149.70it/s]\n"
          ]
        },
        {
          "output_type": "stream",
          "name": "stdout",
          "text": [
            "[Epoch: 3, Num Mini-batches:  3947] Training loss: 2.071\n",
            "[Epoch: 3, Num Mini-batches:   658] Validation loss: 2.050\n"
          ]
        },
        {
          "output_type": "stream",
          "name": "stderr",
          "text": [
            "Training for Fold Number 3; Epoch Number 4: 3947it [00:03, 1149.58it/s]\n"
          ]
        },
        {
          "output_type": "stream",
          "name": "stdout",
          "text": [
            "[Epoch: 4, Num Mini-batches:  3947] Training loss: 2.050\n",
            "[Epoch: 4, Num Mini-batches:   658] Validation loss: 2.031\n"
          ]
        },
        {
          "output_type": "stream",
          "name": "stderr",
          "text": [
            "Training for Fold Number 3; Epoch Number 5: 3947it [00:03, 1165.70it/s]\n"
          ]
        },
        {
          "output_type": "stream",
          "name": "stdout",
          "text": [
            "[Epoch: 5, Num Mini-batches:  3947] Training loss: 2.032\n",
            "[Epoch: 5, Num Mini-batches:   658] Validation loss: 2.012\n"
          ]
        },
        {
          "output_type": "stream",
          "name": "stderr",
          "text": [
            "Training for Fold Number 3; Epoch Number 6: 3947it [00:03, 1147.62it/s]\n"
          ]
        },
        {
          "output_type": "stream",
          "name": "stdout",
          "text": [
            "[Epoch: 6, Num Mini-batches:  3947] Training loss: 2.014\n",
            "[Epoch: 6, Num Mini-batches:   658] Validation loss: 1.994\n"
          ]
        },
        {
          "output_type": "stream",
          "name": "stderr",
          "text": [
            "Training for Fold Number 3; Epoch Number 7: 3947it [00:03, 1155.53it/s]\n"
          ]
        },
        {
          "output_type": "stream",
          "name": "stdout",
          "text": [
            "[Epoch: 7, Num Mini-batches:  3947] Training loss: 1.994\n",
            "[Epoch: 7, Num Mini-batches:   658] Validation loss: 1.973\n"
          ]
        },
        {
          "output_type": "stream",
          "name": "stderr",
          "text": [
            "Training for Fold Number 3; Epoch Number 8: 3947it [00:03, 1152.55it/s]\n"
          ]
        },
        {
          "output_type": "stream",
          "name": "stdout",
          "text": [
            "[Epoch: 8, Num Mini-batches:  3947] Training loss: 1.971\n",
            "[Epoch: 8, Num Mini-batches:   658] Validation loss: 1.946\n"
          ]
        },
        {
          "output_type": "stream",
          "name": "stderr",
          "text": [
            "Training for Fold Number 3; Epoch Number 9: 3947it [00:03, 1147.31it/s]\n"
          ]
        },
        {
          "output_type": "stream",
          "name": "stdout",
          "text": [
            "[Epoch: 9, Num Mini-batches:  3947] Training loss: 1.941\n",
            "[Epoch: 9, Num Mini-batches:   658] Validation loss: 1.915\n"
          ]
        },
        {
          "output_type": "stream",
          "name": "stderr",
          "text": [
            "Training for Fold Number 3; Epoch Number 10: 3947it [00:03, 1153.14it/s]\n"
          ]
        },
        {
          "output_type": "stream",
          "name": "stdout",
          "text": [
            "[Epoch: 10, Num Mini-batches:  3947] Training loss: 1.911\n",
            "[Epoch: 10, Num Mini-batches:   658] Validation loss: 1.886\n"
          ]
        },
        {
          "output_type": "stream",
          "name": "stderr",
          "text": [
            "Training for Fold Number 3; Epoch Number 11: 3947it [00:03, 1164.75it/s]\n"
          ]
        },
        {
          "output_type": "stream",
          "name": "stdout",
          "text": [
            "[Epoch: 11, Num Mini-batches:  3947] Training loss: 1.885\n",
            "[Epoch: 11, Num Mini-batches:   658] Validation loss: 1.863\n"
          ]
        },
        {
          "output_type": "stream",
          "name": "stderr",
          "text": [
            "Training for Fold Number 3; Epoch Number 12: 3947it [00:03, 1152.74it/s]\n"
          ]
        },
        {
          "output_type": "stream",
          "name": "stdout",
          "text": [
            "[Epoch: 12, Num Mini-batches:  3947] Training loss: 1.864\n",
            "[Epoch: 12, Num Mini-batches:   658] Validation loss: 1.844\n"
          ]
        },
        {
          "output_type": "stream",
          "name": "stderr",
          "text": [
            "Training for Fold Number 3; Epoch Number 13: 3947it [00:03, 1153.03it/s]\n"
          ]
        },
        {
          "output_type": "stream",
          "name": "stdout",
          "text": [
            "[Epoch: 13, Num Mini-batches:  3947] Training loss: 1.846\n",
            "[Epoch: 13, Num Mini-batches:   658] Validation loss: 1.828\n"
          ]
        },
        {
          "output_type": "stream",
          "name": "stderr",
          "text": [
            "Training for Fold Number 3; Epoch Number 14: 3947it [00:03, 1158.51it/s]\n"
          ]
        },
        {
          "output_type": "stream",
          "name": "stdout",
          "text": [
            "[Epoch: 14, Num Mini-batches:  3947] Training loss: 1.831\n",
            "[Epoch: 14, Num Mini-batches:   658] Validation loss: 1.813\n"
          ]
        },
        {
          "output_type": "stream",
          "name": "stderr",
          "text": [
            "Training for Fold Number 3; Epoch Number 15: 3947it [00:03, 1138.64it/s]\n"
          ]
        },
        {
          "output_type": "stream",
          "name": "stdout",
          "text": [
            "[Epoch: 15, Num Mini-batches:  3947] Training loss: 1.817\n",
            "[Epoch: 15, Num Mini-batches:   658] Validation loss: 1.800\n"
          ]
        },
        {
          "output_type": "stream",
          "name": "stderr",
          "text": [
            "Training for Fold Number 3; Epoch Number 16: 3947it [00:03, 1151.49it/s]\n"
          ]
        },
        {
          "output_type": "stream",
          "name": "stdout",
          "text": [
            "[Epoch: 16, Num Mini-batches:  3947] Training loss: 1.805\n",
            "[Epoch: 16, Num Mini-batches:   658] Validation loss: 1.789\n"
          ]
        },
        {
          "output_type": "stream",
          "name": "stderr",
          "text": [
            "Training for Fold Number 3; Epoch Number 17: 3947it [00:03, 1155.81it/s]\n"
          ]
        },
        {
          "output_type": "stream",
          "name": "stdout",
          "text": [
            "[Epoch: 17, Num Mini-batches:  3947] Training loss: 1.794\n",
            "[Epoch: 17, Num Mini-batches:   658] Validation loss: 1.778\n"
          ]
        },
        {
          "output_type": "stream",
          "name": "stderr",
          "text": [
            "Training for Fold Number 3; Epoch Number 18: 3947it [00:03, 1138.90it/s]\n"
          ]
        },
        {
          "output_type": "stream",
          "name": "stdout",
          "text": [
            "[Epoch: 18, Num Mini-batches:  3947] Training loss: 1.784\n",
            "[Epoch: 18, Num Mini-batches:   658] Validation loss: 1.769\n"
          ]
        },
        {
          "output_type": "stream",
          "name": "stderr",
          "text": [
            "Training for Fold Number 3; Epoch Number 19: 3947it [00:03, 1144.77it/s]\n"
          ]
        },
        {
          "output_type": "stream",
          "name": "stdout",
          "text": [
            "[Epoch: 19, Num Mini-batches:  3947] Training loss: 1.776\n",
            "[Epoch: 19, Num Mini-batches:   658] Validation loss: 1.762\n"
          ]
        },
        {
          "output_type": "stream",
          "name": "stderr",
          "text": [
            "Training for Fold Number 3; Epoch Number 20: 3947it [00:03, 1144.01it/s]\n"
          ]
        },
        {
          "output_type": "stream",
          "name": "stdout",
          "text": [
            "[Epoch: 20, Num Mini-batches:  3947] Training loss: 1.768\n",
            "[Epoch: 20, Num Mini-batches:   658] Validation loss: 1.755\n"
          ]
        },
        {
          "output_type": "stream",
          "name": "stderr",
          "text": [
            "Training for Fold Number 3; Epoch Number 21: 3947it [00:03, 1161.77it/s]\n"
          ]
        },
        {
          "output_type": "stream",
          "name": "stdout",
          "text": [
            "[Epoch: 21, Num Mini-batches:  3947] Training loss: 1.762\n",
            "[Epoch: 21, Num Mini-batches:   658] Validation loss: 1.748\n"
          ]
        },
        {
          "output_type": "stream",
          "name": "stderr",
          "text": [
            "Training for Fold Number 3; Epoch Number 22: 3947it [00:03, 1158.60it/s]\n"
          ]
        },
        {
          "output_type": "stream",
          "name": "stdout",
          "text": [
            "[Epoch: 22, Num Mini-batches:  3947] Training loss: 1.756\n",
            "[Epoch: 22, Num Mini-batches:   658] Validation loss: 1.743\n"
          ]
        },
        {
          "output_type": "stream",
          "name": "stderr",
          "text": [
            "Training for Fold Number 3; Epoch Number 23: 3947it [00:03, 1144.12it/s]\n"
          ]
        },
        {
          "output_type": "stream",
          "name": "stdout",
          "text": [
            "[Epoch: 23, Num Mini-batches:  3947] Training loss: 1.751\n",
            "[Epoch: 23, Num Mini-batches:   658] Validation loss: 1.738\n"
          ]
        },
        {
          "output_type": "stream",
          "name": "stderr",
          "text": [
            "Training for Fold Number 3; Epoch Number 24: 3947it [00:03, 1162.31it/s]\n"
          ]
        },
        {
          "output_type": "stream",
          "name": "stdout",
          "text": [
            "[Epoch: 24, Num Mini-batches:  3947] Training loss: 1.746\n",
            "[Epoch: 24, Num Mini-batches:   658] Validation loss: 1.734\n"
          ]
        },
        {
          "output_type": "stream",
          "name": "stderr",
          "text": [
            "Training for Fold Number 3; Epoch Number 25: 3947it [00:03, 1135.29it/s]\n"
          ]
        },
        {
          "output_type": "stream",
          "name": "stdout",
          "text": [
            "[Epoch: 25, Num Mini-batches:  3947] Training loss: 1.742\n",
            "[Epoch: 25, Num Mini-batches:   658] Validation loss: 1.730\n"
          ]
        },
        {
          "output_type": "stream",
          "name": "stderr",
          "text": [
            "Training for Fold Number 3; Epoch Number 26: 3947it [00:03, 1148.06it/s]\n"
          ]
        },
        {
          "output_type": "stream",
          "name": "stdout",
          "text": [
            "[Epoch: 26, Num Mini-batches:  3947] Training loss: 1.738\n",
            "[Epoch: 26, Num Mini-batches:   658] Validation loss: 1.726\n"
          ]
        },
        {
          "output_type": "stream",
          "name": "stderr",
          "text": [
            "Training for Fold Number 3; Epoch Number 27: 3947it [00:03, 1131.70it/s]\n"
          ]
        },
        {
          "output_type": "stream",
          "name": "stdout",
          "text": [
            "[Epoch: 27, Num Mini-batches:  3947] Training loss: 1.734\n",
            "[Epoch: 27, Num Mini-batches:   658] Validation loss: 1.722\n"
          ]
        },
        {
          "output_type": "stream",
          "name": "stderr",
          "text": [
            "Training for Fold Number 3; Epoch Number 28: 3947it [00:03, 1133.43it/s]\n"
          ]
        },
        {
          "output_type": "stream",
          "name": "stdout",
          "text": [
            "[Epoch: 28, Num Mini-batches:  3947] Training loss: 1.729\n",
            "[Epoch: 28, Num Mini-batches:   658] Validation loss: 1.717\n"
          ]
        },
        {
          "output_type": "stream",
          "name": "stderr",
          "text": [
            "Training for Fold Number 3; Epoch Number 29: 3947it [00:03, 1138.53it/s]\n"
          ]
        },
        {
          "output_type": "stream",
          "name": "stdout",
          "text": [
            "[Epoch: 29, Num Mini-batches:  3947] Training loss: 1.723\n",
            "[Epoch: 29, Num Mini-batches:   658] Validation loss: 1.709\n"
          ]
        }
      ]
    },
    {
      "cell_type": "code",
      "source": [
        "fig, ax = plt.subplots(num_folds)\n",
        "fig.set_size_inches(15, 15)\n",
        "for fold in range(num_folds):\n",
        "  ax[fold].plot(np.linspace(1, epochs, epochs).astype(int), train_dict[fold], label = \"Training Loss\")\n",
        "  ax[fold].plot(np.linspace(1, epochs, epochs).astype(int), val_dict[fold], label = \"Validation Loss\")\n",
        "  ax[fold].title.set_text('Training and Validation Loss Plot for Fold Number ' + str(fold))\n",
        "  ax[fold].margins(x=0)\n",
        "  ax[fold].legend()\n",
        "\n",
        "  \n",
        "  # plt.plot(np.linspace(1, epochs, epochs).astype(int), train_dict[fold])\n",
        "  # plt.plot(np.linspace(1, epochs, epochs).astype(int), val_dict[fold])\n",
        "\n",
        "  # plt.plot(epochs, train_dict[fold])\n",
        "  # plt.plot(epochs,val_dict[fold])\n",
        "\n",
        "  # print(train_dict[fold])\n",
        "  # print(val_dict[fold])"
      ],
      "metadata": {
        "id": "zSl73K2vIQpw",
        "colab": {
          "base_uri": "https://localhost:8080/",
          "height": 882
        },
        "outputId": "0a55f492-6cd6-4dc8-d218-660c4946c0ba"
      },
      "execution_count": null,
      "outputs": [
        {
          "output_type": "display_data",
          "data": {
            "text/plain": [
              "<Figure size 1080x1080 with 4 Axes>"
            ],
            "image/png": "[encoded data removed]"
          },
          "metadata": {}
        }
      ]
    },
    {
      "cell_type": "code",
      "source": [
        "epochs = 30\n",
        "net = Net(D,numGenres)\n",
        "criterion = nn.CrossEntropyLoss()\n",
        "optimizer = optim.SGD(net.parameters(), lr=0.00005, momentum=0.9)\n",
        "print()\n",
        "print()\n",
        "xtrain = trainx.numpy()\n",
        "ytrain = trainy_le.reshape((N,))\n",
        "\n",
        "trainloader = torch.utils.data.DataLoader(MillionSongTrainDataset(xtrain,ytrain), batch_size=batch_size, shuffle=True)\n",
        "\n",
        "train_losses = []\n",
        "for epoch in range(epochs):\n",
        "\n",
        "  net.train()\n",
        "  running_loss = 0.0\n",
        "  valid_running_loss = 0.0\n",
        "  for i,data in tqdm(enumerate(trainloader,0), desc = training_str_templ.format(numFold=0,numEpoch=epoch)):\n",
        "    local_batch, local_labels = data\n",
        "    optimizer.zero_grad()\n",
        "    outputs = net(local_batch.float())\n",
        "    loss = criterion(outputs, local_labels)\n",
        "    loss.backward()\n",
        "    optimizer.step()\n",
        "    running_loss += loss.item()\n",
        "\n",
        "\n",
        "  print(f'[Epoch: {epoch}, Num Mini-batches: {len(trainloader):5d}] Training loss: {running_loss / len(trainloader):.3f}')\n",
        "  train_losses.append(running_loss / len(trainloader))"
      ],
      "metadata": {
        "colab": {
          "base_uri": "https://localhost:8080/"
        },
        "id": "HvMOc7LqeNAL",
        "outputId": "4f203df4-95ce-481f-d875-bc3382a2571d"
      },
      "execution_count": null,
      "outputs": [
        {
          "output_type": "stream",
          "name": "stdout",
          "text": [
            "\n",
            "\n"
          ]
        },
        {
          "output_type": "stream",
          "name": "stderr",
          "text": [
            "Training for Fold Number 0; Epoch Number 0: 5262it [00:04, 1112.09it/s]\n"
          ]
        },
        {
          "output_type": "stream",
          "name": "stdout",
          "text": [
            "[Epoch: 0, Num Mini-batches:  5262] Training loss: 2.553\n"
          ]
        },
        {
          "output_type": "stream",
          "name": "stderr",
          "text": [
            "Training for Fold Number 0; Epoch Number 1: 5262it [00:04, 1112.41it/s]\n"
          ]
        },
        {
          "output_type": "stream",
          "name": "stdout",
          "text": [
            "[Epoch: 1, Num Mini-batches:  5262] Training loss: 2.155\n"
          ]
        },
        {
          "output_type": "stream",
          "name": "stderr",
          "text": [
            "Training for Fold Number 0; Epoch Number 2: 5262it [00:04, 1114.99it/s]\n"
          ]
        },
        {
          "output_type": "stream",
          "name": "stdout",
          "text": [
            "[Epoch: 2, Num Mini-batches:  5262] Training loss: 2.057\n"
          ]
        },
        {
          "output_type": "stream",
          "name": "stderr",
          "text": [
            "Training for Fold Number 0; Epoch Number 3: 5262it [00:04, 1095.98it/s]\n"
          ]
        },
        {
          "output_type": "stream",
          "name": "stdout",
          "text": [
            "[Epoch: 3, Num Mini-batches:  5262] Training loss: 2.000\n"
          ]
        },
        {
          "output_type": "stream",
          "name": "stderr",
          "text": [
            "Training for Fold Number 0; Epoch Number 4: 5262it [00:04, 1111.71it/s]\n"
          ]
        },
        {
          "output_type": "stream",
          "name": "stdout",
          "text": [
            "[Epoch: 4, Num Mini-batches:  5262] Training loss: 1.956\n"
          ]
        },
        {
          "output_type": "stream",
          "name": "stderr",
          "text": [
            "Training for Fold Number 0; Epoch Number 5: 5262it [00:04, 1109.21it/s]\n"
          ]
        },
        {
          "output_type": "stream",
          "name": "stdout",
          "text": [
            "[Epoch: 5, Num Mini-batches:  5262] Training loss: 1.923\n"
          ]
        },
        {
          "output_type": "stream",
          "name": "stderr",
          "text": [
            "Training for Fold Number 0; Epoch Number 6: 5262it [00:04, 1105.20it/s]\n"
          ]
        },
        {
          "output_type": "stream",
          "name": "stdout",
          "text": [
            "[Epoch: 6, Num Mini-batches:  5262] Training loss: 1.899\n"
          ]
        },
        {
          "output_type": "stream",
          "name": "stderr",
          "text": [
            "Training for Fold Number 0; Epoch Number 7: 5262it [00:04, 1108.64it/s]\n"
          ]
        },
        {
          "output_type": "stream",
          "name": "stdout",
          "text": [
            "[Epoch: 7, Num Mini-batches:  5262] Training loss: 1.879\n"
          ]
        },
        {
          "output_type": "stream",
          "name": "stderr",
          "text": [
            "Training for Fold Number 0; Epoch Number 8: 5262it [00:04, 1108.97it/s]\n"
          ]
        },
        {
          "output_type": "stream",
          "name": "stdout",
          "text": [
            "[Epoch: 8, Num Mini-batches:  5262] Training loss: 1.862\n"
          ]
        },
        {
          "output_type": "stream",
          "name": "stderr",
          "text": [
            "Training for Fold Number 0; Epoch Number 9: 5262it [00:04, 1113.39it/s]\n"
          ]
        },
        {
          "output_type": "stream",
          "name": "stdout",
          "text": [
            "[Epoch: 9, Num Mini-batches:  5262] Training loss: 1.846\n"
          ]
        },
        {
          "output_type": "stream",
          "name": "stderr",
          "text": [
            "Training for Fold Number 0; Epoch Number 10: 5262it [00:04, 1109.93it/s]\n"
          ]
        },
        {
          "output_type": "stream",
          "name": "stdout",
          "text": [
            "[Epoch: 10, Num Mini-batches:  5262] Training loss: 1.834\n"
          ]
        },
        {
          "output_type": "stream",
          "name": "stderr",
          "text": [
            "Training for Fold Number 0; Epoch Number 11: 5262it [00:04, 1119.40it/s]\n"
          ]
        },
        {
          "output_type": "stream",
          "name": "stdout",
          "text": [
            "[Epoch: 11, Num Mini-batches:  5262] Training loss: 1.823\n"
          ]
        },
        {
          "output_type": "stream",
          "name": "stderr",
          "text": [
            "Training for Fold Number 0; Epoch Number 12: 5262it [00:04, 1120.05it/s]\n"
          ]
        },
        {
          "output_type": "stream",
          "name": "stdout",
          "text": [
            "[Epoch: 12, Num Mini-batches:  5262] Training loss: 1.815\n"
          ]
        },
        {
          "output_type": "stream",
          "name": "stderr",
          "text": [
            "Training for Fold Number 0; Epoch Number 13: 5262it [00:04, 1112.95it/s]\n"
          ]
        },
        {
          "output_type": "stream",
          "name": "stdout",
          "text": [
            "[Epoch: 13, Num Mini-batches:  5262] Training loss: 1.808\n"
          ]
        },
        {
          "output_type": "stream",
          "name": "stderr",
          "text": [
            "Training for Fold Number 0; Epoch Number 14: 5262it [00:04, 1108.07it/s]\n"
          ]
        },
        {
          "output_type": "stream",
          "name": "stdout",
          "text": [
            "[Epoch: 14, Num Mini-batches:  5262] Training loss: 1.803\n"
          ]
        },
        {
          "output_type": "stream",
          "name": "stderr",
          "text": [
            "Training for Fold Number 0; Epoch Number 15: 5262it [00:04, 1092.83it/s]\n"
          ]
        },
        {
          "output_type": "stream",
          "name": "stdout",
          "text": [
            "[Epoch: 15, Num Mini-batches:  5262] Training loss: 1.798\n"
          ]
        },
        {
          "output_type": "stream",
          "name": "stderr",
          "text": [
            "Training for Fold Number 0; Epoch Number 16: 5262it [00:04, 1106.36it/s]\n"
          ]
        },
        {
          "output_type": "stream",
          "name": "stdout",
          "text": [
            "[Epoch: 16, Num Mini-batches:  5262] Training loss: 1.794\n"
          ]
        },
        {
          "output_type": "stream",
          "name": "stderr",
          "text": [
            "Training for Fold Number 0; Epoch Number 17: 5262it [00:04, 1117.94it/s]\n"
          ]
        },
        {
          "output_type": "stream",
          "name": "stdout",
          "text": [
            "[Epoch: 17, Num Mini-batches:  5262] Training loss: 1.790\n"
          ]
        },
        {
          "output_type": "stream",
          "name": "stderr",
          "text": [
            "Training for Fold Number 0; Epoch Number 18: 5262it [00:04, 1103.75it/s]\n"
          ]
        },
        {
          "output_type": "stream",
          "name": "stdout",
          "text": [
            "[Epoch: 18, Num Mini-batches:  5262] Training loss: 1.787\n"
          ]
        },
        {
          "output_type": "stream",
          "name": "stderr",
          "text": [
            "Training for Fold Number 0; Epoch Number 19: 5262it [00:04, 1119.54it/s]\n"
          ]
        },
        {
          "output_type": "stream",
          "name": "stdout",
          "text": [
            "[Epoch: 19, Num Mini-batches:  5262] Training loss: 1.784\n"
          ]
        },
        {
          "output_type": "stream",
          "name": "stderr",
          "text": [
            "Training for Fold Number 0; Epoch Number 20: 5262it [00:04, 1099.60it/s]\n"
          ]
        },
        {
          "output_type": "stream",
          "name": "stdout",
          "text": [
            "[Epoch: 20, Num Mini-batches:  5262] Training loss: 1.782\n"
          ]
        },
        {
          "output_type": "stream",
          "name": "stderr",
          "text": [
            "Training for Fold Number 0; Epoch Number 21: 5262it [00:04, 1108.53it/s]\n"
          ]
        },
        {
          "output_type": "stream",
          "name": "stdout",
          "text": [
            "[Epoch: 21, Num Mini-batches:  5262] Training loss: 1.779\n"
          ]
        },
        {
          "output_type": "stream",
          "name": "stderr",
          "text": [
            "Training for Fold Number 0; Epoch Number 22: 5262it [00:04, 1103.86it/s]\n"
          ]
        },
        {
          "output_type": "stream",
          "name": "stdout",
          "text": [
            "[Epoch: 22, Num Mini-batches:  5262] Training loss: 1.777\n"
          ]
        },
        {
          "output_type": "stream",
          "name": "stderr",
          "text": [
            "Training for Fold Number 0; Epoch Number 23: 5262it [00:04, 1103.25it/s]\n"
          ]
        },
        {
          "output_type": "stream",
          "name": "stdout",
          "text": [
            "[Epoch: 23, Num Mini-batches:  5262] Training loss: 1.775\n"
          ]
        },
        {
          "output_type": "stream",
          "name": "stderr",
          "text": [
            "Training for Fold Number 0; Epoch Number 24: 5262it [00:04, 1101.54it/s]\n"
          ]
        },
        {
          "output_type": "stream",
          "name": "stdout",
          "text": [
            "[Epoch: 24, Num Mini-batches:  5262] Training loss: 1.774\n"
          ]
        },
        {
          "output_type": "stream",
          "name": "stderr",
          "text": [
            "Training for Fold Number 0; Epoch Number 25: 5262it [00:04, 1111.91it/s]\n"
          ]
        },
        {
          "output_type": "stream",
          "name": "stdout",
          "text": [
            "[Epoch: 25, Num Mini-batches:  5262] Training loss: 1.772\n"
          ]
        },
        {
          "output_type": "stream",
          "name": "stderr",
          "text": [
            "Training for Fold Number 0; Epoch Number 26: 5262it [00:04, 1086.74it/s]\n"
          ]
        },
        {
          "output_type": "stream",
          "name": "stdout",
          "text": [
            "[Epoch: 26, Num Mini-batches:  5262] Training loss: 1.771\n"
          ]
        },
        {
          "output_type": "stream",
          "name": "stderr",
          "text": [
            "Training for Fold Number 0; Epoch Number 27: 5262it [00:04, 1112.12it/s]\n"
          ]
        },
        {
          "output_type": "stream",
          "name": "stdout",
          "text": [
            "[Epoch: 27, Num Mini-batches:  5262] Training loss: 1.769\n"
          ]
        },
        {
          "output_type": "stream",
          "name": "stderr",
          "text": [
            "Training for Fold Number 0; Epoch Number 28: 5262it [00:04, 1084.92it/s]\n"
          ]
        },
        {
          "output_type": "stream",
          "name": "stdout",
          "text": [
            "[Epoch: 28, Num Mini-batches:  5262] Training loss: 1.768\n"
          ]
        },
        {
          "output_type": "stream",
          "name": "stderr",
          "text": [
            "Training for Fold Number 0; Epoch Number 29: 5262it [00:04, 1094.04it/s]"
          ]
        },
        {
          "output_type": "stream",
          "name": "stdout",
          "text": [
            "[Epoch: 29, Num Mini-batches:  5262] Training loss: 1.767\n"
          ]
        },
        {
          "output_type": "stream",
          "name": "stderr",
          "text": [
            "\n"
          ]
        }
      ]
    },
    {
      "cell_type": "code",
      "source": [
        "plt.rcParams['figure.figsize'] = 10, 5\n",
        "plt.margins(0)\n",
        "plt.plot(np.linspace(1, epochs, epochs).astype(int), train_losses, label = \"Training Loss\")\n",
        "plt.title(\"Training Loss Over Epochs\")"
      ],
      "metadata": {
        "colab": {
          "base_uri": "https://localhost:8080/",
          "height": 355
        },
        "id": "tUeQMlQxhgmB",
        "outputId": "a137b6c1-c822-4254-a5ce-48e89a5adf0b"
      },
      "execution_count": null,
      "outputs": [
        {
          "output_type": "execute_result",
          "data": {
            "text/plain": [
              "Text(0.5, 1.0, 'Training Loss Over Epochs')"
            ]
          },
          "metadata": {},
          "execution_count": 41
        },
        {
          "output_type": "display_data",
          "data": {
            "text/plain": [
              "<Figure size 720x360 with 1 Axes>"
            ],
            "image/png": "[encoded data removed]"
          },
          "metadata": {}
        }
      ]
    },
    {
      "cell_type": "code",
      "source": [
        "xtest = testx.numpy()\n",
        "ytest = testy_le.reshape((testy_le.shape[0],))\n",
        "\n",
        "testloader = torch.utils.data.DataLoader(MillionSongTrainDataset(xtest,ytest), batch_size=batch_size, shuffle=True)\n",
        "\n",
        "\n",
        "net.eval()\n",
        "total_correct = 0\n",
        "total_entries = 0\n",
        "for test_data, test_labels in testloader:\n",
        "  output = net(test_data.float())\n",
        "  count_correct = np.sum(np.argmax(output.detach().numpy(),axis = 1)== test_labels.numpy())\n",
        "  total_correct += count_correct\n",
        "  total_entries +=test_labels.shape[0]\n",
        "\n",
        "print(\"Total test accuracy = {acc}\".format(acc = total_correct/total_entries))"
      ],
      "metadata": {
        "colab": {
          "base_uri": "https://localhost:8080/"
        },
        "id": "hCOa4Sp-hiSG",
        "outputId": "275e2efc-682f-4402-83a6-ae324e5e98cb"
      },
      "execution_count": null,
      "outputs": [
        {
          "output_type": "stream",
          "name": "stdout",
          "text": [
            "Total test accuracy = 0.4919824207150493\n"
          ]
        }
      ]
    }
  ]
}